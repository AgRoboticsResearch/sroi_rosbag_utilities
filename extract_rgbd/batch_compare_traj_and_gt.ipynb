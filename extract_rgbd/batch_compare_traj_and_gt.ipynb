{
 "cells": [
  {
   "cell_type": "code",
   "execution_count": 11,
   "metadata": {},
   "outputs": [],
   "source": [
    "import numpy as np\n",
    "import matplotlib.pyplot as plt\n",
    "from scipy.spatial.transform import Rotation as R\n",
    "import glob\n",
    "import os, sys\n",
    "# print not using scientific notation\n",
    "np.set_printoptions(suppress=True)\n",
    "\n",
    "%matplotlib inline"
   ]
  },
  {
   "cell_type": "code",
   "execution_count": 12,
   "metadata": {},
   "outputs": [],
   "source": [
    "def create_transformation_matrix(xyz, quat):\n",
    "    \"\"\"\n",
    "    Create a 4x4 transformation matrix from position (x, y, z) and quaternion (qx, qy, qz, qw).\n",
    "    \"\"\"\n",
    "    # Convert quaternion to rotation matrix using scipy\n",
    "    rotation = R.from_quat(quat)\n",
    "    rotation_matrix = rotation.as_matrix()  # 3x3 rotation matrix\n",
    "\n",
    "    # Create 4x4 transformation matrix\n",
    "    transformation_matrix = np.eye(4)  # Start with an identity matrix\n",
    "    transformation_matrix[:3, :3] = rotation_matrix  # Set the top-left 3x3 block to the rotation matrix\n",
    "    transformation_matrix[:3, 3] = xyz  # Set the translation vector\n",
    "\n",
    "    return transformation_matrix"
   ]
  },
  {
   "cell_type": "code",
   "execution_count": 13,
   "metadata": {},
   "outputs": [
    {
     "name": "stdout",
     "output_type": "stream",
     "text": [
      "['z1_rs_calib_lab_2025-01-22-08-08-49', 'z1_rs_calib_lab_2025-01-22-08-19-38', 'z1_rs_calib_lab_2025-01-22-08-20-49', 'z1_rs_calib_lab_2025-01-22-08-18-13', 'z1_rs_calib_lab_2025-01-22-08-17-06', 'z1_rs_calib_lab_2025-01-22-08-22-05', 'z1_rs_calib_lab_2025-01-22-08-15-53', 'z1_rs_calib_lab_2025-01-22-08-23-16']\n"
     ]
    }
   ],
   "source": [
    "traj_paths = glob.glob('/mnt/ldata/data/temp/spi_postproc/z1_rs_calib*')\n",
    "traj_ids = []\n",
    "for traj_path in traj_paths:\n",
    "    traj_ids.append(os.path.basename(traj_path))\n",
    "print(traj_ids)"
   ]
  },
  {
   "cell_type": "code",
   "execution_count": 14,
   "metadata": {},
   "outputs": [],
   "source": [
    "traj_id = \"z1_rs_calib_lab_2025-01-22-08-19-38\""
   ]
  },
  {
   "cell_type": "code",
   "execution_count": 24,
   "metadata": {},
   "outputs": [],
   "source": [
    "def process_traj(traj_id):\n",
    "    print(\"Processing: \", traj_id)\n",
    "    # Load ORB-SLAM trajectory\n",
    "    orb_trajs = np.loadtxt(\"/mnt/ldata/data/temp/spi_postproc/\"+ traj_id +\"/CameraTrajectory.txt\")\n",
    "    orb_time_stamps = np.loadtxt(\"/mnt/ldata/data/temp/spi_postproc/\"+ traj_id +\"/times.txt\")\n",
    "    orb_trajs = orb_trajs.reshape(-1, 3, 4)\n",
    "\n",
    "    end_rows = np.zeros((orb_trajs.shape[0], 1, 4))\n",
    "    end_rows[:, 0, 3] = 1\n",
    "    orb_trajs = np.concatenate((orb_trajs, end_rows), axis=1)\n",
    "\n",
    "    print(\"orb_trajs: \", orb_trajs.shape)\n",
    "    print(\"orb_time_stamps: \", orb_time_stamps.shape)   \n",
    "\n",
    "    # Load ground truth trajectory\n",
    "    gt_trajs = np.loadtxt(\"/mnt/ldata/data/temp/spi_postproc/\"+ traj_id +\"/OpticalEndPoseRobotArmCalc.txt\", delimiter=\",\")\n",
    "    # gt_trajs is a list of [time, x, y, z, qx, qy, qz, qw]\n",
    "    # convert to 4x4 transformation matrix\n",
    "    gt_tranjs_mat = np.zeros((gt_trajs.shape[0], 4, 4))\n",
    "    for i in range(gt_trajs.shape[0]):\n",
    "        xyz = gt_trajs[i, 1:4]\n",
    "        quat = gt_trajs[i, 4:]\n",
    "        gt_tranjs_mat[i] = create_transformation_matrix(xyz, quat)\n",
    "    gt_time_stamps = gt_trajs[:, 0]\n",
    "    print(\"gt_tranjs_mat: \", gt_tranjs_mat.shape)\n",
    "    print(\"gt_time_stamps: \", gt_time_stamps.shape)\n",
    "\n",
    "    # Trans ground truth to the initial frame\n",
    "    init_trans = gt_tranjs_mat[0]\n",
    "    init_trans_inv = np.linalg.inv(init_trans)\n",
    "\n",
    "    gt_tranjs_mat_from_inits =[]\n",
    "    for i in range(gt_tranjs_mat.shape[0]):\n",
    "        gt_tranjs_mat_from_init = init_trans_inv.dot(gt_tranjs_mat[i])\n",
    "        gt_tranjs_mat_from_inits.append(gt_tranjs_mat_from_init)\n",
    "    gt_tranjs_mat_from_inits = np.array(gt_tranjs_mat_from_inits)\n",
    "\n",
    "\n",
    "    # sync two trajectories\n",
    "    print(\"orb_time_stamps: \", orb_time_stamps.shape)\n",
    "    print(\"gt_time_stamps: \", gt_time_stamps.shape)\n",
    "\n",
    "    # for each orb timestamp, find the closest gt timestamp\n",
    "    gt_indices = []\n",
    "    for i in range(orb_time_stamps.shape[0]):\n",
    "        orb_time = orb_time_stamps[i]\n",
    "        gt_index = np.argmin(np.abs(gt_time_stamps - orb_time))\n",
    "        gt_indices.append(gt_index)\n",
    "\n",
    "    gt_tranjs_mat_from_inits_synced = gt_tranjs_mat_from_inits[gt_indices]\n",
    "    print(\"gt_tranjs_mat_from_inits_synced: \", gt_tranjs_mat_from_inits_synced.shape)\n",
    "\n",
    "    # save orb and gt trajectories to kitti format 12 numbers per line\n",
    "    with open(\"/mnt/ldata/data/temp/spi_postproc/\" + traj_id + \"/evo_orb.txt\", \"w\") as f:\n",
    "        for i in range(orb_trajs.shape[0]):\n",
    "            for row in range(3):\n",
    "                for col in range(4):\n",
    "                    f.write(str(orb_trajs[i, row, col]))\n",
    "                    if row < 2 or col < 3:  # Add space only if it's not the last number\n",
    "                        f.write(\" \")\n",
    "            f.write(\"\\n\")\n",
    "\n",
    "    with open(\"/mnt/ldata/data/temp/spi_postproc/\" + traj_id + \"/evo_gt.txt\", \"w\") as f:\n",
    "        for i in range(gt_tranjs_mat_from_inits_synced.shape[0]):\n",
    "            for row in range(3):\n",
    "                for col in range(4):\n",
    "                    f.write(str(gt_tranjs_mat_from_inits_synced[i, row, col]))\n",
    "                    if row < 2 or col < 3:  # Add space only if it's not the last number\n",
    "                        f.write(\" \")\n",
    "            f.write(\"\\n\")\n",
    "\n",
    "    # plot two subplots\n",
    "    plt.figure(figsize=(15, 5))\n",
    "    ax1 = plt.subplot(1, 2, 1)\n",
    "    ax2 = plt.subplot(1, 2, 2)\n",
    "\n",
    "    ax1.plot(orb_trajs[:, 0, 3], orb_trajs[:, 1, 3], label=\"orb\")\n",
    "    ax1.plot(gt_tranjs_mat_from_inits[:, 0, 3], gt_tranjs_mat_from_inits[:, 1, 3], label=\"gt\")\n",
    "    ax1.legend()\n",
    "    ax1.set_xlabel(\"x\")\n",
    "    ax1.set_ylabel(\"y\")\n",
    "    ax1.set_title(\"xy\")\n",
    "\n",
    "    ax2.plot(orb_trajs[:, 0, 3], orb_trajs[:, 2, 3], label=\"orb\")\n",
    "    ax2.plot(gt_tranjs_mat_from_inits[:, 0, 3], gt_tranjs_mat_from_inits[:, 2, 3], label=\"gt\")\n",
    "    ax2.legend()\n",
    "    ax2.set_xlabel(\"x\")\n",
    "    ax2.set_ylabel(\"z\")\n",
    "    ax2.set_title(\"xz\")\n",
    "    plt.savefig(\"/mnt/ldata/data/temp/spi_postproc/\" + traj_id + \"/orb_gt.jpg\")\n",
    "\n"
   ]
  },
  {
   "cell_type": "code",
   "execution_count": 25,
   "metadata": {},
   "outputs": [
    {
     "name": "stdout",
     "output_type": "stream",
     "text": [
      "Processing:  z1_rs_calib_lab_2025-01-22-08-08-49\n"
     ]
    },
    {
     "ename": "FileNotFoundError",
     "evalue": "/mnt/ldata/data/temp/spi_postproc/z1_rs_calib_lab_2025-01-22-08-08-49/CameraTrajectory.txt not found.",
     "output_type": "error",
     "traceback": [
      "\u001b[0;31m---------------------------------------------------------------------------\u001b[0m",
      "\u001b[0;31mFileNotFoundError\u001b[0m                         Traceback (most recent call last)",
      "Cell \u001b[0;32mIn[25], line 2\u001b[0m\n\u001b[1;32m      1\u001b[0m \u001b[38;5;28;01mfor\u001b[39;00m traj_id \u001b[38;5;129;01min\u001b[39;00m traj_ids:\n\u001b[0;32m----> 2\u001b[0m     \u001b[43mprocess_traj\u001b[49m\u001b[43m(\u001b[49m\u001b[43mtraj_id\u001b[49m\u001b[43m)\u001b[49m\n",
      "Cell \u001b[0;32mIn[24], line 4\u001b[0m, in \u001b[0;36mprocess_traj\u001b[0;34m(traj_id)\u001b[0m\n\u001b[1;32m      2\u001b[0m \u001b[38;5;28mprint\u001b[39m(\u001b[38;5;124m\"\u001b[39m\u001b[38;5;124mProcessing: \u001b[39m\u001b[38;5;124m\"\u001b[39m, traj_id)\n\u001b[1;32m      3\u001b[0m \u001b[38;5;66;03m# Load ORB-SLAM trajectory\u001b[39;00m\n\u001b[0;32m----> 4\u001b[0m orb_trajs \u001b[38;5;241m=\u001b[39m \u001b[43mnp\u001b[49m\u001b[38;5;241;43m.\u001b[39;49m\u001b[43mloadtxt\u001b[49m\u001b[43m(\u001b[49m\u001b[38;5;124;43m\"\u001b[39;49m\u001b[38;5;124;43m/mnt/ldata/data/temp/spi_postproc/\u001b[39;49m\u001b[38;5;124;43m\"\u001b[39;49m\u001b[38;5;241;43m+\u001b[39;49m\u001b[43m \u001b[49m\u001b[43mtraj_id\u001b[49m\u001b[43m \u001b[49m\u001b[38;5;241;43m+\u001b[39;49m\u001b[38;5;124;43m\"\u001b[39;49m\u001b[38;5;124;43m/CameraTrajectory.txt\u001b[39;49m\u001b[38;5;124;43m\"\u001b[39;49m\u001b[43m)\u001b[49m\n\u001b[1;32m      5\u001b[0m orb_time_stamps \u001b[38;5;241m=\u001b[39m np\u001b[38;5;241m.\u001b[39mloadtxt(\u001b[38;5;124m\"\u001b[39m\u001b[38;5;124m/mnt/ldata/data/temp/spi_postproc/\u001b[39m\u001b[38;5;124m\"\u001b[39m\u001b[38;5;241m+\u001b[39m traj_id \u001b[38;5;241m+\u001b[39m\u001b[38;5;124m\"\u001b[39m\u001b[38;5;124m/times.txt\u001b[39m\u001b[38;5;124m\"\u001b[39m)\n\u001b[1;32m      6\u001b[0m orb_trajs \u001b[38;5;241m=\u001b[39m orb_trajs\u001b[38;5;241m.\u001b[39mreshape(\u001b[38;5;241m-\u001b[39m\u001b[38;5;241m1\u001b[39m, \u001b[38;5;241m3\u001b[39m, \u001b[38;5;241m4\u001b[39m)\n",
      "File \u001b[0;32m~/anaconda3/envs/py310/lib/python3.10/site-packages/numpy/lib/npyio.py:1373\u001b[0m, in \u001b[0;36mloadtxt\u001b[0;34m(fname, dtype, comments, delimiter, converters, skiprows, usecols, unpack, ndmin, encoding, max_rows, quotechar, like)\u001b[0m\n\u001b[1;32m   1370\u001b[0m \u001b[38;5;28;01mif\u001b[39;00m \u001b[38;5;28misinstance\u001b[39m(delimiter, \u001b[38;5;28mbytes\u001b[39m):\n\u001b[1;32m   1371\u001b[0m     delimiter \u001b[38;5;241m=\u001b[39m delimiter\u001b[38;5;241m.\u001b[39mdecode(\u001b[38;5;124m'\u001b[39m\u001b[38;5;124mlatin1\u001b[39m\u001b[38;5;124m'\u001b[39m)\n\u001b[0;32m-> 1373\u001b[0m arr \u001b[38;5;241m=\u001b[39m \u001b[43m_read\u001b[49m\u001b[43m(\u001b[49m\u001b[43mfname\u001b[49m\u001b[43m,\u001b[49m\u001b[43m \u001b[49m\u001b[43mdtype\u001b[49m\u001b[38;5;241;43m=\u001b[39;49m\u001b[43mdtype\u001b[49m\u001b[43m,\u001b[49m\u001b[43m \u001b[49m\u001b[43mcomment\u001b[49m\u001b[38;5;241;43m=\u001b[39;49m\u001b[43mcomment\u001b[49m\u001b[43m,\u001b[49m\u001b[43m \u001b[49m\u001b[43mdelimiter\u001b[49m\u001b[38;5;241;43m=\u001b[39;49m\u001b[43mdelimiter\u001b[49m\u001b[43m,\u001b[49m\n\u001b[1;32m   1374\u001b[0m \u001b[43m            \u001b[49m\u001b[43mconverters\u001b[49m\u001b[38;5;241;43m=\u001b[39;49m\u001b[43mconverters\u001b[49m\u001b[43m,\u001b[49m\u001b[43m \u001b[49m\u001b[43mskiplines\u001b[49m\u001b[38;5;241;43m=\u001b[39;49m\u001b[43mskiprows\u001b[49m\u001b[43m,\u001b[49m\u001b[43m \u001b[49m\u001b[43musecols\u001b[49m\u001b[38;5;241;43m=\u001b[39;49m\u001b[43musecols\u001b[49m\u001b[43m,\u001b[49m\n\u001b[1;32m   1375\u001b[0m \u001b[43m            \u001b[49m\u001b[43munpack\u001b[49m\u001b[38;5;241;43m=\u001b[39;49m\u001b[43munpack\u001b[49m\u001b[43m,\u001b[49m\u001b[43m \u001b[49m\u001b[43mndmin\u001b[49m\u001b[38;5;241;43m=\u001b[39;49m\u001b[43mndmin\u001b[49m\u001b[43m,\u001b[49m\u001b[43m \u001b[49m\u001b[43mencoding\u001b[49m\u001b[38;5;241;43m=\u001b[39;49m\u001b[43mencoding\u001b[49m\u001b[43m,\u001b[49m\n\u001b[1;32m   1376\u001b[0m \u001b[43m            \u001b[49m\u001b[43mmax_rows\u001b[49m\u001b[38;5;241;43m=\u001b[39;49m\u001b[43mmax_rows\u001b[49m\u001b[43m,\u001b[49m\u001b[43m \u001b[49m\u001b[43mquote\u001b[49m\u001b[38;5;241;43m=\u001b[39;49m\u001b[43mquotechar\u001b[49m\u001b[43m)\u001b[49m\n\u001b[1;32m   1378\u001b[0m \u001b[38;5;28;01mreturn\u001b[39;00m arr\n",
      "File \u001b[0;32m~/anaconda3/envs/py310/lib/python3.10/site-packages/numpy/lib/npyio.py:992\u001b[0m, in \u001b[0;36m_read\u001b[0;34m(fname, delimiter, comment, quote, imaginary_unit, usecols, skiplines, max_rows, converters, ndmin, unpack, dtype, encoding)\u001b[0m\n\u001b[1;32m    990\u001b[0m     fname \u001b[38;5;241m=\u001b[39m os\u001b[38;5;241m.\u001b[39mfspath(fname)\n\u001b[1;32m    991\u001b[0m \u001b[38;5;28;01mif\u001b[39;00m \u001b[38;5;28misinstance\u001b[39m(fname, \u001b[38;5;28mstr\u001b[39m):\n\u001b[0;32m--> 992\u001b[0m     fh \u001b[38;5;241m=\u001b[39m \u001b[43mnp\u001b[49m\u001b[38;5;241;43m.\u001b[39;49m\u001b[43mlib\u001b[49m\u001b[38;5;241;43m.\u001b[39;49m\u001b[43m_datasource\u001b[49m\u001b[38;5;241;43m.\u001b[39;49m\u001b[43mopen\u001b[49m\u001b[43m(\u001b[49m\u001b[43mfname\u001b[49m\u001b[43m,\u001b[49m\u001b[43m \u001b[49m\u001b[38;5;124;43m'\u001b[39;49m\u001b[38;5;124;43mrt\u001b[39;49m\u001b[38;5;124;43m'\u001b[39;49m\u001b[43m,\u001b[49m\u001b[43m \u001b[49m\u001b[43mencoding\u001b[49m\u001b[38;5;241;43m=\u001b[39;49m\u001b[43mencoding\u001b[49m\u001b[43m)\u001b[49m\n\u001b[1;32m    993\u001b[0m     \u001b[38;5;28;01mif\u001b[39;00m encoding \u001b[38;5;129;01mis\u001b[39;00m \u001b[38;5;28;01mNone\u001b[39;00m:\n\u001b[1;32m    994\u001b[0m         encoding \u001b[38;5;241m=\u001b[39m \u001b[38;5;28mgetattr\u001b[39m(fh, \u001b[38;5;124m'\u001b[39m\u001b[38;5;124mencoding\u001b[39m\u001b[38;5;124m'\u001b[39m, \u001b[38;5;124m'\u001b[39m\u001b[38;5;124mlatin1\u001b[39m\u001b[38;5;124m'\u001b[39m)\n",
      "File \u001b[0;32m~/anaconda3/envs/py310/lib/python3.10/site-packages/numpy/lib/_datasource.py:193\u001b[0m, in \u001b[0;36mopen\u001b[0;34m(path, mode, destpath, encoding, newline)\u001b[0m\n\u001b[1;32m    156\u001b[0m \u001b[38;5;250m\u001b[39m\u001b[38;5;124;03m\"\"\"\u001b[39;00m\n\u001b[1;32m    157\u001b[0m \u001b[38;5;124;03mOpen `path` with `mode` and return the file object.\u001b[39;00m\n\u001b[1;32m    158\u001b[0m \n\u001b[0;32m   (...)\u001b[0m\n\u001b[1;32m    189\u001b[0m \n\u001b[1;32m    190\u001b[0m \u001b[38;5;124;03m\"\"\"\u001b[39;00m\n\u001b[1;32m    192\u001b[0m ds \u001b[38;5;241m=\u001b[39m DataSource(destpath)\n\u001b[0;32m--> 193\u001b[0m \u001b[38;5;28;01mreturn\u001b[39;00m \u001b[43mds\u001b[49m\u001b[38;5;241;43m.\u001b[39;49m\u001b[43mopen\u001b[49m\u001b[43m(\u001b[49m\u001b[43mpath\u001b[49m\u001b[43m,\u001b[49m\u001b[43m \u001b[49m\u001b[43mmode\u001b[49m\u001b[43m,\u001b[49m\u001b[43m \u001b[49m\u001b[43mencoding\u001b[49m\u001b[38;5;241;43m=\u001b[39;49m\u001b[43mencoding\u001b[49m\u001b[43m,\u001b[49m\u001b[43m \u001b[49m\u001b[43mnewline\u001b[49m\u001b[38;5;241;43m=\u001b[39;49m\u001b[43mnewline\u001b[49m\u001b[43m)\u001b[49m\n",
      "File \u001b[0;32m~/anaconda3/envs/py310/lib/python3.10/site-packages/numpy/lib/_datasource.py:533\u001b[0m, in \u001b[0;36mDataSource.open\u001b[0;34m(self, path, mode, encoding, newline)\u001b[0m\n\u001b[1;32m    530\u001b[0m     \u001b[38;5;28;01mreturn\u001b[39;00m _file_openers[ext](found, mode\u001b[38;5;241m=\u001b[39mmode,\n\u001b[1;32m    531\u001b[0m                               encoding\u001b[38;5;241m=\u001b[39mencoding, newline\u001b[38;5;241m=\u001b[39mnewline)\n\u001b[1;32m    532\u001b[0m \u001b[38;5;28;01melse\u001b[39;00m:\n\u001b[0;32m--> 533\u001b[0m     \u001b[38;5;28;01mraise\u001b[39;00m \u001b[38;5;167;01mFileNotFoundError\u001b[39;00m(\u001b[38;5;124mf\u001b[39m\u001b[38;5;124m\"\u001b[39m\u001b[38;5;132;01m{\u001b[39;00mpath\u001b[38;5;132;01m}\u001b[39;00m\u001b[38;5;124m not found.\u001b[39m\u001b[38;5;124m\"\u001b[39m)\n",
      "\u001b[0;31mFileNotFoundError\u001b[0m: /mnt/ldata/data/temp/spi_postproc/z1_rs_calib_lab_2025-01-22-08-08-49/CameraTrajectory.txt not found."
     ]
    }
   ],
   "source": [
    "for traj_id in traj_ids:\n",
    "    process_traj(traj_id)"
   ]
  },
  {
   "cell_type": "code",
   "execution_count": null,
   "metadata": {},
   "outputs": [],
   "source": []
  }
 ],
 "metadata": {
  "kernelspec": {
   "display_name": "py310",
   "language": "python",
   "name": "python3"
  },
  "language_info": {
   "codemirror_mode": {
    "name": "ipython",
    "version": 3
   },
   "file_extension": ".py",
   "mimetype": "text/x-python",
   "name": "python",
   "nbconvert_exporter": "python",
   "pygments_lexer": "ipython3",
   "version": "3.10.13"
  }
 },
 "nbformat": 4,
 "nbformat_minor": 2
}
