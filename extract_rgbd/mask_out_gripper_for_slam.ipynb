{
 "cells": [
  {
   "cell_type": "code",
   "execution_count": 7,
   "metadata": {},
   "outputs": [
    {
     "name": "stdout",
     "output_type": "stream",
     "text": [
      "The autoreload extension is already loaded. To reload it, use:\n",
      "  %reload_ext autoreload\n"
     ]
    }
   ],
   "source": [
    "import matplotlib.pyplot as plt\n",
    "import cv2 as cv\n",
    "import sys, os\n",
    "import numpy as np\n",
    "import glob\n",
    "%load_ext autoreload\n",
    "%autoreload 2"
   ]
  },
  {
   "cell_type": "code",
   "execution_count": 6,
   "metadata": {},
   "outputs": [
    {
     "name": "stdout",
     "output_type": "stream",
     "text": [
      "/home/zfei/codes/data/upi/lab_sb/rs435i_2024-08-28-07-14-06_mask\n"
     ]
    }
   ],
   "source": [
    "data_folder = \"/home/zfei/codes/data/upi/lab_sb/rs435i_2024-08-28-07-14-06\"\n",
    "save_folder = data_folder + \"_mask\"\n",
    "# create folder if not exist\n",
    "if not os.path.exists(save_folder):\n",
    "    os.makedirs(save_folder)\n",
    "print(save_folder)\n"
   ]
  },
  {
   "cell_type": "code",
   "execution_count": null,
   "metadata": {},
   "outputs": [],
   "source": []
  },
  {
   "cell_type": "code",
   "execution_count": 39,
   "metadata": {},
   "outputs": [],
   "source": [
    "# idx = 0\n",
    "for idx in range(len(glob.glob(data_folder + \"/left*.png\"))):\n",
    "    left_image_path = data_folder + f\"/left_{idx:06d}.png\"\n",
    "    left_image = cv.imread(left_image_path)\n",
    "    left_image[340:, 100:] = 0\n",
    "    save_path = save_folder + f\"/left_{idx:06d}.png\"\n",
    "    cv.imwrite(save_path, left_image)\n",
    "    # plt.imshow(left_image)\n",
    "for idx in range(len(glob.glob(data_folder + \"/right*.png\"))):\n",
    "    right_image_path = data_folder + f\"/right_{idx:06d}.png\"\n",
    "    right_image = cv.imread(right_image_path)\n",
    "    save_path = save_folder + f\"/right_{idx:06d}.png\"\n",
    "    cv.imwrite(save_path, right_image)\n",
    "    # plt.imshow(left_image)"
   ]
  },
  {
   "cell_type": "code",
   "execution_count": 35,
   "metadata": {},
   "outputs": [
    {
     "data": {
      "text/plain": [
       "(480, 848, 3)"
      ]
     },
     "execution_count": 35,
     "metadata": {},
     "output_type": "execute_result"
    }
   ],
   "source": [
    "ll = cv.imread(left_image_path)\n",
    "ll.shape"
   ]
  },
  {
   "cell_type": "code",
   "execution_count": null,
   "metadata": {},
   "outputs": [],
   "source": []
  },
  {
   "cell_type": "code",
   "execution_count": 36,
   "metadata": {},
   "outputs": [
    {
     "data": {
      "text/plain": [
       "(480, 848, 3)"
      ]
     },
     "execution_count": 36,
     "metadata": {},
     "output_type": "execute_result"
    }
   ],
   "source": [
    "ss = cv.imread(save_path)\n",
    "ss.shape"
   ]
  },
  {
   "cell_type": "code",
   "execution_count": 37,
   "metadata": {},
   "outputs": [
    {
     "name": "stdout",
     "output_type": "stream",
     "text": [
      "/home/zfei/codes/data/upi/lab_sb/rs435i_2024-08-28-07-14-06/left_000292.png /home/zfei/codes/data/upi/lab_sb/rs435i_2024-08-28-07-14-06_mask/left_000292.png\n"
     ]
    }
   ],
   "source": [
    "print(left_image_path, save_path)"
   ]
  },
  {
   "cell_type": "code",
   "execution_count": null,
   "metadata": {},
   "outputs": [],
   "source": []
  }
 ],
 "metadata": {
  "kernelspec": {
   "display_name": "base",
   "language": "python",
   "name": "python3"
  },
  "language_info": {
   "codemirror_mode": {
    "name": "ipython",
    "version": 3
   },
   "file_extension": ".py",
   "mimetype": "text/x-python",
   "name": "python",
   "nbconvert_exporter": "python",
   "pygments_lexer": "ipython3",
   "version": "3.11.5"
  }
 },
 "nbformat": 4,
 "nbformat_minor": 2
}
