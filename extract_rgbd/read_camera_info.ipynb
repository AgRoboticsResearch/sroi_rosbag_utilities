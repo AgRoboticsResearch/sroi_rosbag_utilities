{
 "cells": [
  {
   "cell_type": "code",
   "execution_count": 1,
   "metadata": {},
   "outputs": [],
   "source": [
    "import numpy as np\n",
    "\n",
    "# print not using scientific notation\n",
    "np.set_printoptions(suppress=True)"
   ]
  },
  {
   "cell_type": "code",
   "execution_count": 2,
   "metadata": {},
   "outputs": [],
   "source": [
    "left_camera_info_file = \"/mnt/ldata/data/temp/spi_postproc/z1_rs_calib_lab_2025-01-22-08-19-38/camera_info_left.txt\"\n",
    "right_camera_info_file = \"/mnt/ldata/data/temp/spi_postproc/z1_rs_calib_lab_2025-01-22-08-19-38/camera_info_right.txt\"\n"
   ]
  },
  {
   "cell_type": "code",
   "execution_count": 9,
   "metadata": {},
   "outputs": [
    {
     "name": "stdout",
     "output_type": "stream",
     "text": [
      "left_camera_info\n",
      "[[420.50396729   0.         426.15518188   0.        ]\n",
      " [  0.         420.50396729 239.55384827   0.        ]\n",
      " [  0.           0.           1.           0.        ]]\n",
      "right_camera_info\n",
      "[[420.50396729   0.         426.15518188 -21.00626755]\n",
      " [  0.         420.50396729 239.55384827   0.        ]\n",
      " [  0.           0.           1.           0.        ]]\n"
     ]
    }
   ],
   "source": [
    "left_camera_info = np.loadtxt(left_camera_info_file)\n",
    "right_camera_info = np.loadtxt(right_camera_info_file)\n",
    "print(\"left_camera_info\")\n",
    "print(left_camera_info)\n",
    "print(\"right_camera_info\")\n",
    "print(right_camera_info)"
   ]
  },
  {
   "cell_type": "code",
   "execution_count": 12,
   "metadata": {},
   "outputs": [
    {
     "name": "stdout",
     "output_type": "stream",
     "text": [
      "baseline:  0.04995498064674012\n"
     ]
    }
   ],
   "source": [
    "baseline = right_camera_info[0, 3]/-right_camera_info[0, 0]\n",
    "print(\"baseline: \", baseline)"
   ]
  },
  {
   "cell_type": "code",
   "execution_count": null,
   "metadata": {},
   "outputs": [],
   "source": []
  }
 ],
 "metadata": {
  "kernelspec": {
   "display_name": "py310",
   "language": "python",
   "name": "python3"
  },
  "language_info": {
   "codemirror_mode": {
    "name": "ipython",
    "version": 3
   },
   "file_extension": ".py",
   "mimetype": "text/x-python",
   "name": "python",
   "nbconvert_exporter": "python",
   "pygments_lexer": "ipython3",
   "version": "3.10.13"
  }
 },
 "nbformat": 4,
 "nbformat_minor": 2
}
